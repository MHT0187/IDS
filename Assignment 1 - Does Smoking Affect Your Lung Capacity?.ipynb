{
 "cells": [
  {
   "cell_type": "markdown",
   "metadata": {},
   "source": [
    "# Excercise 1"
   ]
  },
  {
   "cell_type": "markdown",
   "metadata": {},
   "source": [
    "import libraries and load dataset"
   ]
  },
  {
   "cell_type": "code",
   "execution_count": 1,
   "metadata": {},
   "outputs": [],
   "source": [
    "%matplotlib inline\n",
    "import numpy as np\n",
    "import matplotlib.pyplot as plt\n",
    "import math\n",
    "from scipy import stats"
   ]
  },
  {
   "cell_type": "code",
   "execution_count": 2,
   "metadata": {},
   "outputs": [
    {
     "data": {
      "text/plain": [
       "(654, 6)"
      ]
     },
     "execution_count": 2,
     "metadata": {},
     "output_type": "execute_result"
    }
   ],
   "source": [
    "dataset = np.loadtxt('smoking.txt')\n",
    "dataset.shape"
   ]
  },
  {
   "cell_type": "markdown",
   "metadata": {},
   "source": [
    "Split the dataset into smoker and non-smoker groups and calculate the average FEV1 score."
   ]
  },
  {
   "cell_type": "code",
   "execution_count": 3,
   "metadata": {},
   "outputs": [
    {
     "name": "stdout",
     "output_type": "stream",
     "text": [
      "(65, 6)\n",
      "(589, 6)\n"
     ]
    }
   ],
   "source": [
    "def split_dataset(data): #function to split dataset into smokers and non-smokers\n",
    "    smokers = []\n",
    "    non_smokers = []\n",
    "    for row in data: #check each row, if 5th column value is 0 add to non-smokers, otherwise to smokers\n",
    "        if row[4] == 0:\n",
    "            non_smokers.append(row)\n",
    "        else:\n",
    "            smokers.append(row)\n",
    "    return np.asarray(smokers), np.asarray(non_smokers)\n",
    "\n",
    "\n",
    "smokers, non_smokers = split_dataset(dataset)\n",
    "print(smokers.shape)\n",
    "print(non_smokers.shape)"
   ]
  },
  {
   "cell_type": "code",
   "execution_count": 4,
   "metadata": {},
   "outputs": [
    {
     "name": "stdout",
     "output_type": "stream",
     "text": [
      "Non Smokers Avg FEV1:  2.5661426146010187  Smokers Avg FEV1:  3.2768615384615383\n"
     ]
    }
   ],
   "source": [
    "def calculate_FEV1(data): #calculate Average FEV1 score\n",
    "    fev1 = data[:,1]\n",
    "    return np.sum(fev1)/len(fev1)\n",
    "\n",
    "smokers_fev1 = calculate_FEV1(smokers)\n",
    "non_smokers_fev1 = calculate_FEV1(non_smokers)\n",
    "print(\"Non Smokers Avg FEV1: \", non_smokers_fev1, \" Smokers Avg FEV1: \", smokers_fev1)"
   ]
  },
  {
   "cell_type": "markdown",
   "metadata": {},
   "source": [
    "A higher FEV1 score represents better lung function, while a lower score means poorer lung function. Thus, seeing these results is quite suprising as smokers have a higher FEV1 score compared to Non-Smokers whereas it should be the opposite. One would expect on average that a non-smoker has better lung function than a smoker."
   ]
  },
  {
   "cell_type": "markdown",
   "metadata": {},
   "source": [
    "# Excercise 2"
   ]
  },
  {
   "cell_type": "markdown",
   "metadata": {},
   "source": [
    "Plot boxplot for smokers and non-smokers over FEV1"
   ]
  },
  {
   "cell_type": "code",
   "execution_count": 5,
   "metadata": {},
   "outputs": [
    {
     "data": {
      "image/png": "[encoded data removed]",
      "text/plain": [
       "<Figure size 432x288 with 1 Axes>"
      ]
     },
     "metadata": {
      "needs_background": "light"
     },
     "output_type": "display_data"
    }
   ],
   "source": [
    "box_plot_data = [smokers[:,1], non_smokers[:,1]] #make array with FEV1 for smokers and non-smokers\n",
    "labels = ['Smokers', 'Non-Smokers']\n",
    "plt.boxplot(box_plot_data, labels = labels) #plot the data\n",
    "plt.title('Boxplot over FEV1 Scores for Smokers and Non-Smokers')\n",
    "plt.ylabel('FEV1 Score')\n",
    "plt.show()"
   ]
  },
  {
   "cell_type": "markdown",
   "metadata": {},
   "source": [
    "Again non-smokers have lower median, q1 and q3, which is quite surprising but can be somewhat explained by the fact that the minimum value for smokers is much larger than non-smokers. One would except non-smokers to have larger values. Taking a closer look at the data however a case can be made for non-smokers having lower values since there are many more datapoints for non-smokers. Non-smokers also have a larger variance for FEV1 and quite a few outliers. "
   ]
  },
  {
   "cell_type": "markdown",
   "metadata": {},
   "source": [
    "# Excercise 3"
   ]
  },
  {
   "cell_type": "markdown",
   "metadata": {},
   "source": [
    "Carry out two tailed t test"
   ]
  },
  {
   "cell_type": "markdown",
   "metadata": {},
   "source": [
    "We carry out a t test on the FEV1 scores for smokers and non smokers. The hypotheses are:-\n",
    "\\begin{equation}\n",
    "H_0: \\mu_{smokers} = \\mu_{non-smokers}\n",
    "\\end{equation}\n",
    "\\begin{equation}\n",
    "H_a: \\mu_{smokers} \\neq \\mu_{non-smokers}\n",
    "\\end{equation}"
   ]
  },
  {
   "cell_type": "markdown",
   "metadata": {},
   "source": [
    "The following formula was used to calculate the t-statistic:\n",
    "\\begin{equation}\n",
    "T = \\frac{\\bar{X}-\\bar{Y}}{\\sqrt{\\frac{\\sigma^{2}_{X}}{n_{X}}+ {\\frac{\\sigma^{2}_{Y}}{n_{Y}}}} }\n",
    "\\end{equation}\n",
    "The degrees of freedom were calculated using the following formula:\n",
    "\\begin{equation}\n",
    "v = \\left \\lfloor \\frac{\\left( \\frac{\\sigma^{2}_{X}}{n_{X}} + \\frac{\\sigma^{2}_{Y}}{n_Y} \\right)^{2}}{\\frac{\\sigma^{4}_{X}}{(n^{2}_{X})(n_{X}-1)} + \\frac{\\sigma^{4}_{Y}}{(n^{2}_{Y})(n_{Y}-1)}} \\right \\rfloor\n",
    "\\end{equation}\n",
    "\n",
    "After calculation of t-statistic we have the choice of calculating critical value and comparing it to the t value. If the t value is greater we reject the null hypothesis otherwise we fail to reject the null hypothesis.\n",
    "\n",
    "The second thing we can do is to calculate the p value. Since this is a 2 tail test we multiply the value by 2. If the result is larger than $\\alpha$ we fail to reject the null hypothesis, if it is smaller we reject the null hypothesis. "
   ]
  },
  {
   "cell_type": "code",
   "execution_count": 6,
   "metadata": {},
   "outputs": [
    {
     "name": "stdout",
     "output_type": "stream",
     "text": [
      "degrees of freedom:  83\n",
      "critical value:  1.988959779987179\n",
      "t statistic:  7.1990318609997095\n",
      "p value:  2.4945644815274697e-10\n",
      "result:  reject the null hypothesis\n"
     ]
    }
   ],
   "source": [
    "def t_test(smokers, non_smokers):\n",
    "    \n",
    "    smokers_mean = np.mean(smokers)\n",
    "    smokers_var = np.var(smokers)\n",
    "    num_smokers = len(smokers)\n",
    "    \n",
    "    non_smokers_mean = np.mean(non_smokers)\n",
    "    non_smokers_var = np.var(non_smokers)\n",
    "    num_non_smokers = len(non_smokers)\n",
    "    \n",
    "    diff_mean = smokers_mean - non_smokers_mean\n",
    "    diff_std = (smokers_var/num_smokers+ non_smokers_var/num_non_smokers)**0.5\n",
    "    \n",
    "    t = diff_mean/diff_std\n",
    "    \n",
    "    \n",
    "    df_lower1 = (smokers_var**2) / ((num_smokers-1)*(num_smokers)**2)\n",
    "    df_lower2 = (non_smokers_var**2) / ((num_non_smokers-1)*(num_non_smokers)**2)\n",
    "    df_lower3 = df_lower1 + df_lower2\n",
    "    df = ((smokers_var/num_smokers+ non_smokers_var/num_non_smokers)**2)/df_lower3\n",
    "    df = int(df)\n",
    "    crit_val = stats.t.ppf(1-0.025, df)\n",
    "    \n",
    "    pval = stats.t.sf(np.abs(t), df)*2\n",
    "    \n",
    "    if t >= crit_val:\n",
    "        return df, crit_val, t, \"reject the null hypothesis\", pval\n",
    "    \n",
    "    else:\n",
    "        return df, crit_val, t, \"fail to reject the null hypothesis\", pval\n",
    "    \n",
    "df, crit_val, t, res,pval = t_test(smokers[:,1],non_smokers[:,1])\n",
    "print(\"degrees of freedom: \", df) \n",
    "print(\"critical value: \", crit_val) \n",
    "print(\"t statistic: \", t) \n",
    "print(\"p value: \" , pval)\n",
    "print(\"result: \" , res)"
   ]
  },
  {
   "cell_type": "markdown",
   "metadata": {},
   "source": [
    "Since the null hypothesis was rejected this leads us to conclude with 95% confidence that the means of the two groups are not equal to each other. This is not surprising at all since we have already plotted out the data before and it supports the conclusion we have reached."
   ]
  },
  {
   "cell_type": "markdown",
   "metadata": {},
   "source": [
    "# Excercise 4"
   ]
  },
  {
   "cell_type": "markdown",
   "metadata": {},
   "source": [
    "Computed correlation between age and FEV1. Also created scatterplot"
   ]
  },
  {
   "cell_type": "markdown",
   "metadata": {},
   "source": [
    "The correlation can be calculated as follows:\n",
    "\\begin{equation}\n",
    "\\rho(x,y) = \\frac{cov(x,y)}{\\sigma_x \\sigma_y}\n",
    "\\end{equation}\n",
    "\\begin{equation}\n",
    "cov(x,y) = \\frac{1}{N} \\sum_{n=1}^{N} (x_n - \\bar{x})(y_n - \\bar{y})\n",
    "\\end{equation}"
   ]
  },
  {
   "cell_type": "code",
   "execution_count": 7,
   "metadata": {},
   "outputs": [
    {
     "name": "stdout",
     "output_type": "stream",
     "text": [
      "Correlation b/w FEV1 and age:  0.7564589899895997\n"
     ]
    }
   ],
   "source": [
    "fev1 = dataset[:,1] \n",
    "age = dataset[:,0]\n",
    "\n",
    "def calc_correlation(attribute1, attribute2): #correlation function\n",
    "    std1 = np.std(attribute1) #calculate standard deviation\n",
    "    std2 = np.std(attribute2)\n",
    "    cov = calc_covariance(attribute1, attribute2)\n",
    "    return cov/(std1 * std2) #divide covariance by product of std\n",
    "    \n",
    "def calc_covariance(attr1, attr2): #covariance function\n",
    "    mean1 = np.mean(attr1) #calculate means\n",
    "    mean2 = np.mean(attr2)\n",
    "    centered1 = attr1 - mean1 #subtract mean from all points\n",
    "    centered2 = attr2 - mean2\n",
    "    cov = np.dot(centered1, centered2) #multiply all adjacent points and sum the results\n",
    "    return cov/len(attr1) # divide by num of points\n",
    "\n",
    "cor = calc_correlation(fev1, age)\n",
    "print(\"Correlation b/w FEV1 and age: \", cor)"
   ]
  },
  {
   "cell_type": "code",
   "execution_count": 8,
   "metadata": {},
   "outputs": [
    {
     "data": {
      "image/png": "[encoded data removed]",
      "text/plain": [
       "<Figure size 432x288 with 1 Axes>"
      ]
     },
     "metadata": {
      "needs_background": "light"
     },
     "output_type": "display_data"
    }
   ],
   "source": [
    "plt.scatter(non_smokers[:,1], non_smokers[:,0], c=\"green\", label = \"Non-Smoker\") #plot points for non-smokers\n",
    "plt.scatter(smokers[:,1], smokers[:,0], c=\"red\", label = \"Smoker\")# plot for smokers\n",
    "plt.title('Plot of Age vs FEV1 Score - Smokers vs Non-Smokers')\n",
    "plt.xlabel('FEV1 score')\n",
    "plt.ylabel('Age')\n",
    "plt.legend(loc='lower right')\n",
    "plt.show()"
   ]
  },
  {
   "cell_type": "markdown",
   "metadata": {},
   "source": [
    "The correlation value comes out to be positive, which means that the age and FEV1 score are directly propotional. An increase in age generally results in an increase in FEV1. This is further supported by the plot above. We can see a positive trend. The scatter plot moves in a diagnol direction."
   ]
  },
  {
   "cell_type": "markdown",
   "metadata": {},
   "source": [
    "# Excercise 5"
   ]
  },
  {
   "cell_type": "markdown",
   "metadata": {},
   "source": [
    "Created a histogram over the age of subjects in each of the two groups"
   ]
  },
  {
   "cell_type": "code",
   "execution_count": 9,
   "metadata": {},
   "outputs": [
    {
     "data": {
      "text/plain": [
       "array([ 9., 10., 11., 12., 13., 14., 15., 16., 17., 18., 19.])"
      ]
     },
     "execution_count": 9,
     "metadata": {},
     "output_type": "execute_result"
    }
   ],
   "source": [
    "smokers_age = smokers[:,0] #extracting age from dataset\n",
    "non_smokers_age = non_smokers[:,0]\n",
    "np.unique(smokers_age)"
   ]
  },
  {
   "cell_type": "code",
   "execution_count": 10,
   "metadata": {},
   "outputs": [
    {
     "data": {
      "image/png": "[encoded data removed]",
      "text/plain": [
       "<Figure size 432x288 with 1 Axes>"
      ]
     },
     "metadata": {
      "needs_background": "light"
     },
     "output_type": "display_data"
    }
   ],
   "source": [
    "plt.hist(non_smokers_age, 17, color='green', label='Non-Smokers', align = 'mid') #plot non-smokers\n",
    "plt.hist(smokers_age, 11, label='Smokers', color = 'red') #plot smokers\n",
    "plt.xlabel('Age')\n",
    "plt.ylabel('Count')\n",
    "plt.title('Histogram over age in Smokers and Non-Smokers')\n",
    "plt.legend()\n",
    "plt.show()"
   ]
  },
  {
   "cell_type": "markdown",
   "metadata": {},
   "source": [
    "The first thing from the above histogram we can see is that non-smokers are much more in quantity than smokers. Secondly, smokers are comprised of the older age groups only. Since we know that age and FEV1 scores are correlated and that a higher age results in a higher FEV1 score the previous results make some sense in this context. This coupled with the fact that the datapoints for non-smokers(Approximately 10 times more datapoints than smokers) less than the age of 10 comprise almost 50% of the group of non-smokers (almost 0% for smokers) we can begin to understand why the average FEV1 score of non-smokers is lower than smokers."
   ]
  }
 ],
 "metadata": {
  "authors": [
   {
    "name": "Muhammad Hussain Tarar (klq827)"
   }
  ],
  "kernelspec": {
   "display_name": "Python 3",
   "language": "python",
   "name": "python3"
  },
  "language_info": {
   "codemirror_mode": {
    "name": "ipython",
    "version": 3
   },
   "file_extension": ".py",
   "mimetype": "text/x-python",
   "name": "python",
   "nbconvert_exporter": "python",
   "pygments_lexer": "ipython3",
   "version": "3.7.9"
  }
 },
 "nbformat": 4,
 "nbformat_minor": 4
}
